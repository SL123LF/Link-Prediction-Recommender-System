{
 "cells": [
  {
   "cell_type": "code",
   "execution_count": 24,
   "metadata": {},
   "outputs": [],
   "source": [
    "#Mass Diffusion 物质扩散算法\n",
    "def recommendMassDiff(ID):\n",
    "    user_ereg_1={}\n",
    "    movie_ereg_1={}\n",
    "    scores=[]\n",
    "    unwatched = np.where(ums_matrix[np.where(train_user_array==ID)[0][0]]==0)[0]\n",
    "    convertindex= ums_matrix[np.where(train_user_array==ID)[0][0]]\n",
    "    for i in range(0,len(convertindex)):# unwatched movie list for the target user\n",
    "            m2u_edge= convertindex[i]/len(np.where(ums_matrix[:,i]==1)[0]) # Calculate the average energy by the number of links\n",
    "            for j in range(0,len(ums_matrix)): # Iterate for each user\n",
    "                if ums_matrix[j,i]==1: \n",
    "                    if j in  user_ereg_1.keys(): \n",
    "                        user_ereg_1[j] += m2u_edge\n",
    "                    else:\n",
    "                        user_ereg_1[j] = m2u_edge \n",
    "                else: \n",
    "                    if j in  user_ereg_1.keys(): \n",
    "                        user_ereg_1[j] += 0\n",
    "                    else:\n",
    "                        user_ereg_1[j] = 0 #If no links,the energy is 0\n",
    "                    \n",
    "    for w in range(0,len(ums_matrix)):\n",
    "        u2m_edge= user_ereg_1[w]/len(np.where(ums_matrix[w,:]==1)[0]) \n",
    "        for z in range(0,len(convertindex)): \n",
    "            if ums_matrix[w,z]==1: \n",
    "                if z in  movie_ereg_1.keys():\n",
    "                    movie_ereg_1[z] += u2m_edge\n",
    "                else:\n",
    "                    movie_ereg_1[z] = u2m_edge \n",
    "            else: \n",
    "                if z in  movie_ereg_1.keys():\n",
    "                    movie_ereg_1[z] += 0\n",
    "                else:\n",
    "                    movie_ereg_1[z] = 0\n",
    "                            \n",
    "    for key,value in movie_ereg_1.items():\n",
    "        if key in unwatched:\n",
    "            temp = [key,value]\n",
    "            scores.append(temp)\n",
    "            \n",
    "    for g in range(len(scores)):\n",
    "        scores[g][0]= train_movie_array[[scores[g][0]]][0]\n",
    "        \n",
    "    sort_unwatched=sorted(scores, key=itemgetter(1),reverse=True)\n",
    "    return sort_unwatched"
   ]
  },
  {
   "cell_type": "code",
   "execution_count": 25,
   "metadata": {},
   "outputs": [],
   "source": [
    "#热传导算法\n",
    "def recommendHeatspread(ID):\n",
    "    q=0\n",
    "    m_ini_heat=0\n",
    "    user_ereg_1={}\n",
    "    movie_ereg_1={}\n",
    "    scores=[]\n",
    "    unwatched = np.where(ums_matrix[np.where(train_user_array==ID)[0][0]]==0)[0]\n",
    "    convertindex= ums_matrix[np.where(train_user_array==ID)[0][0]]\n",
    "    labels=np.where(convertindex==1)\n",
    "    for i in range(0,len(ums_matrix)): # Create an \"unwatched\" list for the target user.\n",
    "        user_edge_num=len(np.where(ums_matrix[i,:]==1)[0]) # Get the number of links for each user\n",
    "        for j in labels[0]: # If user has watched the movie that also watched by the target user, heat + 1\n",
    "            if ums_matrix[i,j]==1: \n",
    "                q += 1\n",
    "        user_heat=q/user_edge_num # Get the heat of each user\n",
    "        user_ereg_1[i]=user_heat \n",
    "        q=0\n",
    "        \n",
    "    for w in range(0,len(convertindex)):\n",
    "        movie_edge_num=len(np.where(ums_matrix[:,w]==1)[0])\n",
    "        for p in np.where(ums_matrix[:,w]==1)[0]:\n",
    "            m_ini_heat += user_ereg_1.get(p) \n",
    "        movie_heat=m_ini_heat/movie_edge_num\n",
    "        movie_ereg_1[w]=movie_heat\n",
    "        m_ini_heat = 0\n",
    "        \n",
    "    for key,value in movie_ereg_1.items():\n",
    "        if key in unwatched:\n",
    "            temp = [key,value]\n",
    "            scores.append(temp)\n",
    "            \n",
    "    for g in range(len(scores)):\n",
    "        scores[g][0]= train_movie_array[[scores[g][0]]][0]\n",
    "        \n",
    "    sort_unwatched=sorted(scores, key=itemgetter(1),reverse=True)\n",
    "    return sort_unwatched"
   ]
  },
  {
   "cell_type": "code",
   "execution_count": 26,
   "metadata": {},
   "outputs": [],
   "source": [
    "#Find users in both training and testing sets 同时存在于训练集和测试集的用户\n",
    "common_users=sorted(list(set(train.userID)&set(test.userID)))"
   ]
  },
  {
   "cell_type": "code",
   "execution_count": 40,
   "metadata": {},
   "outputs": [],
   "source": [
    "#Evaluate the precision of recommendation list HS method\n",
    "precision_list=[]\n",
    "for i in common_users:\n",
    "        precision=len(list(set(test.movieID[test.userID==i])& set([item[0] for item in recommendHeatspread(i)][:20])))/len([item[0]for item in recommendHeatspread(i)][:20])\n",
    "        precision_list.append(precision)\n",
    "precision_heatspread = np.mean(precision_list)"
   ]
  },
  {
   "cell_type": "code",
   "execution_count": 41,
   "metadata": {},
   "outputs": [],
   "source": [
    "#Evaluate the rank score of recommendation list HS method\n",
    "user_RS_list=[]\n",
    "all_RS_list=[]\n",
    "for i in common_users:\n",
    "    rec= recommendHeatspread(i)\n",
    "    for w in  list(set(test.movieID[test.userID==i])& set([item[0] for item in rec])):\n",
    "        for z in range(len(rec)):\n",
    "            if w==rec[z][0]:\n",
    "                RS=(z+1)/len(rec)\n",
    "                user_RS_list.append(RS)\n",
    "                if list(set(test.movieID[test.userID==i])& set([item[0] for item in rec])).index(w)+1 \\\n",
    "                == len(list(set(test.movieID[test.userID==i])& set([item[0] for item in rec]))):\n",
    "                    user_RS=np.mean(user_RS_list)\n",
    "                    all_RS_list.append([i,user_RS])\n",
    "                    user_RS_list=[]\n",
    "                break\n",
    "RS_heatspread=(np.mean([piece[1] for piece in all_RS_list]))"
   ]
  },
  {
   "cell_type": "code",
   "execution_count": 42,
   "metadata": {},
   "outputs": [
    {
     "data": {
      "text/plain": [
       "0.20793097746202646"
      ]
     },
     "execution_count": 42,
     "metadata": {},
     "output_type": "execute_result"
    }
   ],
   "source": [
    "RS_heatspread"
   ]
  },
  {
   "cell_type": "code",
   "execution_count": 43,
   "metadata": {},
   "outputs": [],
   "source": [
    "#Evaluate the precision of recommendation list MD method\n",
    "precision_list=[]\n",
    "for i in common_users:\n",
    "        precision=len(list(set(test.movieID[test.userID==i])& set([item[0] for item in recommendMassDiff(i)][:20])))/len([item[0]for item in recommendMassDiff(i)][:20])\n",
    "        precision_list.append(precision)\n",
    "precision_Massdiff = np.mean(precision_list)"
   ]
  },
  {
   "cell_type": "code",
   "execution_count": 44,
   "metadata": {},
   "outputs": [
    {
     "data": {
      "text/plain": [
       "0.08181818181818182"
      ]
     },
     "execution_count": 44,
     "metadata": {},
     "output_type": "execute_result"
    }
   ],
   "source": [
    "precision_Massdiff"
   ]
  },
  {
   "cell_type": "code",
   "execution_count": 45,
   "metadata": {},
   "outputs": [],
   "source": [
    "#Evaluate the rank score of recommendation list MD method\n",
    "user_RS_list=[]\n",
    "all_RS_list=[]\n",
    "for i in common_users:\n",
    "    rec= recommendMassDiff(i)\n",
    "    for w in  list(set(test.movieID[test.userID==i])& set([item[0] for item in rec])):\n",
    "        for z in range(len(rec)):\n",
    "            if w==rec[z][0]:\n",
    "                RS=(z+1)/len(rec)\n",
    "                user_RS_list.append(RS)\n",
    "                if list(set(test.movieID[test.userID==i])& set([item[0] for item in rec])).index(w)+1 \\\n",
    "                == len(list(set(test.movieID[test.userID==i])& set([item[0] for item in rec]))):\n",
    "                    user_RS=np.mean(user_RS_list)\n",
    "                    all_RS_list.append([i,user_RS])\n",
    "                    user_RS_list=[]\n",
    "                break\n",
    "RS_Massdiff=(np.mean([piece[1] for piece in all_RS_list]))"
   ]
  },
  {
   "cell_type": "code",
   "execution_count": 46,
   "metadata": {},
   "outputs": [
    {
     "data": {
      "text/plain": [
       "0.18224701409585414"
      ]
     },
     "execution_count": 46,
     "metadata": {},
     "output_type": "execute_result"
    }
   ],
   "source": [
    "RS_Massdiff"
   ]
  },
  {
   "cell_type": "code",
   "execution_count": 47,
   "metadata": {},
   "outputs": [
    {
     "name": "stdout",
     "output_type": "stream",
     "text": [
      "\n",
      " The precision score based on user(CN) is: 0.06364\n",
      "\n",
      " The precision score based on user(COSINE) is: 0.06364\n",
      "\n",
      " The precision score based on movie(CN) is: 0.00000\n",
      "\n",
      " The precision score based on movie(COSINE) is: 0.00000\n",
      "\n",
      " The ranking score based on user(CN) is: 0.24612\n",
      "\n",
      " The ranking score based on user(COSINE) is: 0.22781\n",
      "\n",
      " The ranking score based on movie(CN) is: 0.35741\n",
      "\n",
      " The ranking score based on movie(COSINE) is: 0.36724\n",
      "\n",
      " The precision score based on heatspread is: 0.01364\n",
      "\n",
      " The ranking score based on heatspread is: 0.20793\n",
      "\n",
      " The precision score based on mass diffusion is: 0.08182\n",
      "\n",
      " The ranking score based on mass diffusion is: 0.18225\n"
     ]
    }
   ],
   "source": [
    "print(\"\\n The precision score based on user(CN) is: {:.5f}\".format(precision_user_CN))\n",
    "print(\"\\n The precision score based on user(COSINE) is: {:.5f}\".format(precision_user_COS))\n",
    "print(\"\\n The precision score based on movie(CN) is: {:.5f}\".format(precision_movie_CN))\n",
    "print(\"\\n The precision score based on movie(COSINE) is: {:.5f}\".format(precision_movie_COS))\n",
    "print(\"\\n The ranking score based on user(CN) is: {:.5f}\".format(RS_user_CN))\n",
    "print(\"\\n The ranking score based on user(COSINE) is: {:.5f}\".format(RS_user_COS))\n",
    "print(\"\\n The ranking score based on movie(CN) is: {:.5f}\".format(RS_movie_CN))\n",
    "print(\"\\n The ranking score based on movie(COSINE) is: {:.5f}\".format(RS_movie_COS))\n",
    "print(\"\\n The precision score based on heatspread is: {:.5f}\".format(precision_heatspread))\n",
    "print(\"\\n The ranking score based on heatspread is: {:.5f}\".format(RS_heatspread))\n",
    "print(\"\\n The precision score based on mass diffusion is: {:.5f}\".format(precision_Massdiff))\n",
    "print(\"\\n The ranking score based on mass diffusion is: {:.5f}\".format(RS_Massdiff))"
   ]
  },
  {
   "cell_type": "code",
   "execution_count": 63,
   "metadata": {},
   "outputs": [
    {
     "data": {
      "text/plain": [
       "array([0.2232628 , 0.57631755])"
      ]
     },
     "execution_count": 63,
     "metadata": {},
     "output_type": "execute_result"
    }
   ],
   "source": [
    "np.random.random(2)"
   ]
  },
  {
   "cell_type": "code",
   "execution_count": 89,
   "metadata": {},
   "outputs": [
    {
     "data": {
      "image/png": "[encoded data removed]",
      "text/plain": [
       "<matplotlib.figure.Figure at 0x294a7d0b4e0>"
      ]
     },
     "metadata": {},
     "output_type": "display_data"
    }
   ],
   "source": [
    "import matplotlib.pyplot as plt\n",
    "name_list=['Precision',\"Ranking Score\"]\n",
    "x = np.arange(2)\n",
    "total_width, n = 0.8, 6\n",
    "width = total_width / n\n",
    "x = x - (total_width - width) / 4\n",
    "\n",
    "user_CN=np.array([precision_user_CN,RS_user_CN])\n",
    "user_COS=np.array([precision_user_COS,RS_user_COS])\n",
    "movie_CN=np.array([precision_movie_CN,RS_movie_CN])\n",
    "movie_COS=np.array([precision_movie_COS,RS_movie_COS])\n",
    "Massdiff=np.array([precision_Massdiff,RS_Massdiff])\n",
    "Heatspread=np.array([precision_heatspread,RS_heatspread])\n",
    "plt.bar(x, user_CN,  width=width, label='user_CN')\n",
    "plt.bar(x + width, user_COS, width=width, label='user_COS')\n",
    "plt.bar(x + 2 * width, movie_CN, width=width, label='movie_CN')\n",
    "plt.bar(x + 3 * width, movie_COS, width=width, label='movie_COS',tick_label = name_list)\n",
    "plt.bar(x + 4 * width, Massdiff, width=width, label='Mass diffusion')\n",
    "plt.bar(x + 5 * width, Heatspread, width=width, label='Heat spread')\n",
    "plt.legend()\n",
    "plt.show()"
   ]
  }
 ],
 "metadata": {
  "kernelspec": {
   "display_name": "Python 3",
   "language": "python",
   "name": "python3"
  },
  "language_info": {
   "codemirror_mode": {
    "name": "ipython",
    "version": 3
   },
   "file_extension": ".py",
   "mimetype": "text/x-python",
   "name": "python",
   "nbconvert_exporter": "python",
   "pygments_lexer": "ipython3",
   "version": "3.6.4"
  }
 },
 "nbformat": 4,
 "nbformat_minor": 2
}
