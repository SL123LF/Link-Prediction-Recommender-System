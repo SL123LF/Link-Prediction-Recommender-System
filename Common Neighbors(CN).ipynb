{
 "cells": [
  {
   "cell_type": "code",
   "execution_count": null,
   "metadata": {},
   "outputs": [],
   "source": [
    "import pandas as pd\n",
    "import numpy as np\n",
    "from scipy.sparse import csr_matrix\n",
    "from sklearn.metrics.pairwise import cosine_similarity\n",
    "from scipy import sparse\n",
    "from sklearn.metrics import pairwise_distances\n",
    "from sklearn.metrics.pairwise import cosine_similarity  \n",
    "import itertools\n",
    "from numpy import linalg as LA  \n",
    "import os\n",
    "print(os.listdir(\"E:\\\\Matlab\\LinkPrediction\\ml-latest-small\"))"
   ]
  },
  {
   "cell_type": "code",
   "execution_count": null,
   "metadata": {},
   "outputs": [],
   "source": [
    "A = pd.read_csv(\"E:/Matlab/LinkPrediction/ml-latest-small/ratings.csv\")"
   ]
  },
  {
   "cell_type": "code",
   "execution_count": null,
   "metadata": {},
   "outputs": [],
   "source": [
    "A.head()"
   ]
  },
  {
   "cell_type": "code",
   "execution_count": null,
   "metadata": {},
   "outputs": [],
   "source": [
    "del A['rating']\n",
    "#Split train and test sets based on the timeline. 依据时间戳来分训练集和测试集\n",
    "timestamp90=A.timestamp.quantile(0.9)\n",
    "train_split={'movieID':A.movieId[A.timestamp<timestamp90],'userID':A.userId[A.timestamp<timestamp90]}\n",
    "test_split={'movieID':A.movieId[A.timestamp>=timestamp90],'userID':A.userId[A.timestamp>=timestamp90]}\n",
    "train=pd.DataFrame(train_split)\n",
    "train=train[['userID','movieID']]\n",
    "train=train.reset_index(drop=True)\n",
    "test=pd.DataFrame(test_split)\n",
    "test=test[['userID','movieID']]\n",
    "test=test.reset_index(drop=True)"
   ]
  },
  {
   "cell_type": "code",
   "execution_count": null,
   "metadata": {},
   "outputs": [],
   "source": [
    "train.movieID[train.userID==583]"
   ]
  },
  {
   "cell_type": "code",
   "execution_count": null,
   "metadata": {},
   "outputs": [],
   "source": [
    "#Check the number of users and movies 检查训练集里用户和影片的个数\n",
    "user_node_num=train.userID.unique()\n",
    "len(user_node_num)\n",
    "user_node_num\n",
    "movie_node_num=train.movieID.unique()\n",
    "len(movie_node_num)"
   ]
  },
  {
   "cell_type": "code",
   "execution_count": null,
   "metadata": {},
   "outputs": [],
   "source": [
    "#Set up network for training set 构筑训练集网络\n",
    "movies=[]\n",
    "user_movies=[]\n",
    "for i in range(0,len(train.userID)):\n",
    "        movies.append(train.movieID[i])\n",
    "        if i+1 == len(train.movieID):\n",
    "            user_movies.append([train.userID[i],movies])\n",
    "        elif train.userID[i+1] != train.userID[i]:\n",
    "            user_movies.append([train.userID[i],movies])\n",
    "            movies=[]"
   ]
  },
  {
   "cell_type": "code",
   "execution_count": null,
   "metadata": {},
   "outputs": [],
   "source": [
    "#Set up user list for training set建立训练集里用户ID列表\n",
    "train_user_list=[]\n",
    "for i in range(0,len(user_movies)):\n",
    "    train_user_list.append(user_movies[i][0])\n",
    "#Covert to matrix转化为矩阵\n",
    "train_user_array=np.asarray(train_user_list)"
   ]
  },
  {
   "cell_type": "code",
   "execution_count": null,
   "metadata": {},
   "outputs": [],
   "source": [
    "train_movie_list=[]\n",
    "for i in train.movieID:\n",
    "    if i not in train_movie_list:\n",
    "        train_movie_list.append(i)\n",
    "train_movie_list=sorted(train_movie_list)\n",
    "train_movie_array=np.asarray(train_movie_list)"
   ]
  },
  {
   "cell_type": "code",
   "execution_count": null,
   "metadata": {},
   "outputs": [],
   "source": [
    "# Set up User-Movie Sparse Matrix 建造用户-电影的稀疏矩阵\n",
    "user_movie_summary=[]\n",
    "for w in range(0,len(user_movies)):\n",
    "    for i in range(0,len(train_movie_list)):\n",
    "        if train_movie_list[i] in user_movies[w][1]:\n",
    "            user_movie_summary.append(1)\n",
    "        else:\n",
    "            user_movie_summary.append(0)"
   ]
  },
  {
   "cell_type": "code",
   "execution_count": null,
   "metadata": {},
   "outputs": [],
   "source": [
    "# Change the data type 将矩阵转换为数据框 \n",
    "user_movie_summary=np.asarray(user_movie_summary)\n",
    "user_movie_summary=user_movie_summary.reshape(len(user_movies),len((train_movie_list)))\n",
    "user_movie_summary=pd.DataFrame(user_movie_summary)"
   ]
  },
  {
   "cell_type": "code",
   "execution_count": null,
   "metadata": {},
   "outputs": [],
   "source": [
    "# Similarity matrix among users based on CN 基于共同邻居，创建用户-用户相似性矩阵\n",
    "user2user = np.zeros(shape=(user_movie_summary.shape[0],user_movie_summary.shape[0]))\n",
    "u=[]\n",
    "for h in range(0,user_movie_summary.shape[1]):\n",
    "    for i in range(0,user_movie_summary.shape[0]):\n",
    "        if user_movie_summary[h][i]==1:\n",
    "            u.append(i)\n",
    "        if i+1 == user_movie_summary.shape[0]:\n",
    "            similar_users=list(itertools.combinations(u,2))\n",
    "            u=[]\n",
    "            for w in range(0,len(similar_users)):\n",
    "                user2user[similar_users[w][0]][similar_users[w][1]]=user2user[similar_users[w][0]][similar_users[w][1]]+1"
   ]
  },
  {
   "cell_type": "code",
   "execution_count": null,
   "metadata": {},
   "outputs": [],
   "source": [
    "# Symmertic Matrix 让用户-用户矩阵变为对称矩阵\n",
    "user2user=user2user+user2user.T"
   ]
  },
  {
   "cell_type": "code",
   "execution_count": null,
   "metadata": {},
   "outputs": [],
   "source": [
    "# Similarity matrix among users based on cosine 基于余弦相似性，建立用户-用户相似性矩阵\n",
    "user_similarity=cosine_similarity(user_movie_summary) "
   ]
  },
  {
   "cell_type": "code",
   "execution_count": null,
   "metadata": {},
   "outputs": [],
   "source": [
    "# Similarity matrix among movies based on cosine 基于余弦相似性，建立电影-电影相似性矩阵\n",
    "movie_similarity=cosine_similarity(user_movie_summary.T) "
   ]
  },
  {
   "cell_type": "code",
   "execution_count": null,
   "metadata": {},
   "outputs": [],
   "source": [
    "#Similarity matrix among movies based on CN 基于共同邻居，建立电影-电影相似性矩阵\n",
    "movie2movie = np.zeros(shape=(user_movie_summary.T.shape[0],user_movie_summary.T.shape[0]))\n",
    "m=[]\n",
    "for h in range(0,user_movie_summary.T.shape[1]):\n",
    "    for i in range(0,user_movie_summary.T.shape[0]):\n",
    "        if user_movie_summary.T[h][i]==1:\n",
    "            m.append(i)\n",
    "        if i+1 == user_movie_summary.T.shape[0]:\n",
    "            similar_movies=list(itertools.combinations(m,2))\n",
    "            m=[]\n",
    "            for w in range(0,len(similar_movies)):\n",
    "                movie2movie[similar_movies[w][0]][similar_movies[w][1]]=movie2movie[similar_movies[w][0]][similar_movies[w][1]]+1"
   ]
  },
  {
   "cell_type": "code",
   "execution_count": null,
   "metadata": {},
   "outputs": [],
   "source": [
    "# Symmertic Matrix 让电影-电影矩阵变为对称矩阵\n",
    "movie2movie=movie2movie+movie2movie.T"
   ]
  },
  {
   "cell_type": "code",
   "execution_count": null,
   "metadata": {},
   "outputs": [],
   "source": [
    "# Generate the recommended scores based on CN(users)基于用户间的共同邻居指标来获取推荐列表，及列表中每部电影的推荐分数\n",
    "from operator import itemgetter\n",
    "ums_matrix=np.asarray(user_movie_summary)\n",
    "def recommenduserCN(ID):\n",
    "    unwatched = np.where(ums_matrix[np.where(train_user_array==ID)[0][0]]==0)\n",
    "    scores=[]\n",
    "    sim=0\n",
    "    sim_sum=sum(user2user[np.where(train_user_array==ID)[0][0]])\n",
    "    for i in range(0,len(unwatched[0])):\n",
    "        others_watched=np.where(ums_matrix[:,unwatched[0][i]]==1) \n",
    "        for w in others_watched[0]:\n",
    "            sim += user2user[np.where(train_user_array==ID)[0][0]][w] \n",
    "            if w == others_watched[0][-1]:\n",
    "                scores.append([train_movie_array[unwatched[0][i]],sim/sim_sum]) \n",
    "                sim = 0\n",
    "    sort_unwatched=sorted(scores, key=itemgetter(1),reverse=True)\n",
    "    return sort_unwatched\n",
    "\n",
    "# Generate the recommended scores based on cosine(users) 基于用户间的余弦相似性指标来获取推荐列表，及列表中每部电影的推荐分数\n",
    "def recommenduserCOS(ID):\n",
    "    unwatched = np.where(ums_matrix[np.where(train_user_array==ID)[0][0]]==0)\n",
    "    scores=[]\n",
    "    sim=0\n",
    "    sim_sum=sum(user_similarity[np.where(train_user_array==ID)[0][0]])\n",
    "    for i in range(0,len(unwatched[0])):\n",
    "        others_watched=np.where(ums_matrix[:,unwatched[0][i]]==1) \n",
    "        for w in others_watched[0]:\n",
    "            sim += user_similarity[np.where(train_user_array==ID)[0][0]][w] \n",
    "            if w == others_watched[0][-1]:\n",
    "                scores.append([train_movie_array[unwatched[0][i]],[sim/sim_sum]])\n",
    "                sim = 0\n",
    "    sort_unwatched=sorted(scores, key=itemgetter(1),reverse=True)\n",
    "    return sort_unwatched"
   ]
  },
  {
   "cell_type": "code",
   "execution_count": null,
   "metadata": {},
   "outputs": [],
   "source": [
    "# Generate the recommended scores based on CN(movies) 基于电影间的共同邻居指标来获取推荐列表，及列表中每部电影的推荐分数\n",
    "def recommenditemCN(ID):\n",
    "    unwatched = np.where(ums_matrix[np.where(train_user_array==ID)[0][0]]==0) \n",
    "    other_movie_watched=np.where(ums_matrix.T[:,np.where(train_user_array==ID)[0][0]]==1)\n",
    "    scores=[]\n",
    "    sim=0\n",
    "    for i in range(0,len(unwatched[0])): \n",
    "        for w in range(0,len(other_movie_watched)): \n",
    "            sim += movie2movie[unwatched[0][i]][other_movie_watched[0][w]]\n",
    "            if w+1 == len(other_movie_watched):\n",
    "                scores.append([train_movie_array[unwatched[0][i]],[sim/sum(movie2movie[unwatched[0][i]])]])\n",
    "                sim = 0\n",
    "    sort_unwatched=sorted(scores, key=itemgetter(1),reverse=True)\n",
    "    return sort_unwatched\n",
    "\n",
    "# Generate the recommended scores based on cosine(movies)基于电影间的共同邻居指标来获取推荐列表，及列表中每部电影的推荐分数\n",
    "def recommenditemCOS(ID):\n",
    "    unwatched = np.where(ums_matrix[np.where(train_user_array==ID)[0][0]]==0) \n",
    "    other_movie_watched=np.where(ums_matrix.T[:,np.where(train_user_array==ID)[0][0]]==1)\n",
    "    sim=0\n",
    "    for i in range(0,len(unwatched[0])): \n",
    "        for w in range(0,len(other_movie_watched)): \n",
    "            sim += movie_similarity[unwatched[0][i]][other_movie_watched[0][w]]\n",
    "            if w+1 == len(other_movie_watched):\n",
    "                scores.append([train_movie_array[unwatched[0][i]],[sim/sum(movie_similarity[unwatched[0][i]])]])\n",
    "                sim = 0\n",
    "    sort_unwatched=sorted(scores, key=itemgetter(1),reverse=True)\n",
    "    return sort_unwatched"
   ]
  },
  {
   "cell_type": "code",
   "execution_count": null,
   "metadata": {},
   "outputs": [],
   "source": [
    "# Find users in both training and testing sets同时存在于训练集和测试集的用户\n",
    "common_users=sorted(list(set(train.userID)&set(test.userID)))"
   ]
  },
  {
   "cell_type": "code",
   "execution_count": null,
   "metadata": {},
   "outputs": [],
   "source": [
    "# Evaluate the precision of recommendation list CN method(users) 计算以用户间的共同邻居为基础的推荐准确率 长度20\n",
    "precision_list=[]\n",
    "for i in common_users:\n",
    "        precision=len(list(set(test.movieID[test.userID==i])& set([item[0] for item in recommenduserCN(i)][:20])))/len([item[0]for item in recommenduserCN(i)][:20])\n",
    "        precision_list.append(precision)\n",
    "precision_user_CN = np.mean(precision_list)"
   ]
  },
  {
   "cell_type": "code",
   "execution_count": null,
   "metadata": {},
   "outputs": [],
   "source": [
    "# Evaluate the precision of recommendation list Cosine method(users)计算以用户间的余弦相似性为基础的推荐准确率 长度20\n",
    "precision_list=[]\n",
    "for i in common_users:\n",
    "        precision=len(list(set(test.movieID[test.userID==i])& set([item[0] for item in recommenduserCOS(i)][:20])))/len([item[0]for item in recommenduserCOS(i)][:20])\n",
    "        precision_list.append(precision)\n",
    "precision_user_COS = np.mean(precision_list)"
   ]
  },
  {
   "cell_type": "code",
   "execution_count": null,
   "metadata": {},
   "outputs": [],
   "source": [
    "precision_user_CN"
   ]
  },
  {
   "cell_type": "code",
   "execution_count": null,
   "metadata": {},
   "outputs": [],
   "source": [
    "precision_user_COS"
   ]
  },
  {
   "cell_type": "code",
   "execution_count": null,
   "metadata": {},
   "outputs": [],
   "source": [
    "# Evaluate the rank score CN method (users)计算以用户间的共同邻居为基础的排序准确度\n",
    "user_RS_list=[]\n",
    "all_RS_list=[]\n",
    "for i in common_users:\n",
    "    rec= recommenduserCN(i)\n",
    "    for w in  list(set(test.movieID[test.userID==i])& set([item[0] for item in rec])):\n",
    "        for z in range(len(rec)):\n",
    "            if w==rec[z][0]:\n",
    "                RS=(z+1)/len(rec)\n",
    "                user_RS_list.append(RS)\n",
    "                if list(set(test.movieID[test.userID==i])& set([item[0] for item in rec])).index(w)+1 \\\n",
    "                == len(list(set(test.movieID[test.userID==i])& set([item[0] for item in rec]))):\n",
    "                    user_RS=np.mean(user_RS_list)\n",
    "                    all_RS_list.append([i,user_RS]\n",
    "                    user_RS_list=[]\n",
    "                break\n",
    "RS_user_CN=(np.mean([piece[1] for piece in all_RS_list]))"
   ]
  },
  {
   "cell_type": "code",
   "execution_count": null,
   "metadata": {},
   "outputs": [],
   "source": [
    "RS_user_CN"
   ]
  },
  {
   "cell_type": "code",
   "execution_count": null,
   "metadata": {},
   "outputs": [],
   "source": [
    "# Evaluate the precision Cosine method (users) 计算以用户间的余弦相似性为基础的推荐准确率\n",
    "precision_list=[]\n",
    "for i in common_users:\n",
    "        precision=len(list(set(test.movieID[test.userID==i])& set([item[0] for item in recommenduserCOS(i)][:20])))/len([item[0]for item in recommenduserCOS(i)][:20])\n",
    "        precision_list.append(precision)\n",
    "precision_user_COS = np.mean(precision_list)"
   ]
  },
  {
   "cell_type": "code",
   "execution_count": null,
   "metadata": {},
   "outputs": [],
   "source": [
    "# Evaluate the rank score Cosine method (users)计算以用户间的余弦相似性为基础的排序准确度 \n",
    "user_RS_list=[]\n",
    "all_RS_list=[]\n",
    "for i in common_users:\n",
    "    rec= recommenduserCOS(i)\n",
    "    for w in  list(set(test.movieID[test.userID==i])& set([item[0] for item in rec])):\n",
    "        for z in range(len(rec)):\n",
    "            if w==rec[z][0]: \n",
    "                RS=(z+1)/len(rec)\n",
    "                user_RS_list.append(RS)\n",
    "                if list(set(test.movieID[test.userID==i])& set([item[0] for item in rec])).index(w)+1 \\\n",
    "                == len(list(set(test.movieID[test.userID==i])& set([item[0] for item in rec]))):\n",
    "                    user_RS=np.mean(user_RS_list)\n",
    "                    all_RS_list.append([i,user_RS])\n",
    "                    user_RS_list=[]\n",
    "                break\n",
    "RS_user_COS=(np.mean([piece[1] for piece in all_RS_list]))"
   ]
  },
  {
   "cell_type": "code",
   "execution_count": null,
   "metadata": {},
   "outputs": [],
   "source": [
    "RS_user_COS"
   ]
  },
  {
   "cell_type": "code",
   "execution_count": null,
   "metadata": {},
   "outputs": [],
   "source": [
    "# Evaluate the precision of recommendation list CN method(movies)计算以电影间的共同邻居为基础的推荐准确率\n",
    "precision_list=[]\n",
    "for i in common_users:\n",
    "        precision=len(list(set(test.movieID[test.userID==i])& set([item[0] for item in recommenditemCN(i)][:20])))/len([item[0]for item in recommenditemCN(i)][:20])\n",
    "        precision_list.append(precision)\n",
    "precision_movie_CN = np.mean(precision_list)"
   ]
  },
  {
   "cell_type": "code",
   "execution_count": null,
   "metadata": {},
   "outputs": [],
   "source": [
    "# Evaluate the rank score CN method (movies)计算以电影间的共同邻居为基础的排序准确度\n",
    "user_RS_list=[]\n",
    "all_RS_list=[]\n",
    "for i in common_users:\n",
    "    rec= recommenditemCN(i)\n",
    "    for w in  list(set(test.movieID[test.userID==i])& set([item[0] for item in rec])):\n",
    "        for z in range(len(rec)):\n",
    "            if w==rec[z][0]:\n",
    "                RS=(z+1)/len(rec)\n",
    "                user_RS_list.append(RS)\n",
    "                if list(set(test.movieID[test.userID==i])& set([item[0] for item in rec])).index(w)+1 \\\n",
    "                == len(list(set(test.movieID[test.userID==i])& set([item[0] for item in rec]))):\n",
    "                    user_RS=np.mean(user_RS_list)\n",
    "                    all_RS_list.append([i,user_RS])#38号用户没有看过一部推荐列表的电影，在列表里就没有录入该用户，是否会影响最后RS的准确性？\n",
    "                    user_RS_list=[]\n",
    "                break\n",
    "RS_movie_CN=(np.mean([piece[1] for piece in all_RS_list]))"
   ]
  },
  {
   "cell_type": "code",
   "execution_count": null,
   "metadata": {},
   "outputs": [],
   "source": [
    "# Evaluate the precision Cosine method (movies) 计算以电影间的余弦相似性为基础的推荐准确率\n",
    "precision_list=[]\n",
    "for i in common_users:\n",
    "        precision=len(list(set(test.movieID[test.userID==i])& set([item[0] for item in recommenditemCOS(i)][:20])))/len([item[0]for item in recommenditemCOS(i)][:20])\n",
    "        precision_list.append(precision)\n",
    "precision_movie_COS = np.mean(precision_list)"
   ]
  },
  {
   "cell_type": "code",
   "execution_count": null,
   "metadata": {},
   "outputs": [],
   "source": [
    "# # Evaluate the rank score Cosine method (movies) 计算以电影间的余弦相似性为基础的排序准确度\n",
    "user_RS_list=[]\n",
    "all_RS_list=[]\n",
    "for i in common_users:\n",
    "    rec= recommenditemCOS(i)\n",
    "    for w in  list(set(test.movieID[test.userID==i])& set([item[0] for item in rec])):\n",
    "        for z in range(len(rec)):\n",
    "            if w==rec[z][0]:\n",
    "                RS=(z+1)/len(rec)\n",
    "                user_RS_list.append(RS)\n",
    "                if list(set(test.movieID[test.userID==i])& set([item[0] for item in rec])).index(w)+1 \\\n",
    "                == len(list(set(test.movieID[test.userID==i])& set([item[0] for item in rec]))):\n",
    "                    user_RS=np.mean(user_RS_list)\n",
    "                    all_RS_list.append([i,user_RS])#38号用户没有看过一部推荐列表的电影，在列表里就没有录入该用户，是否会影响最后RS的准确性？\n",
    "                    user_RS_list=[]\n",
    "                break\n",
    "RS_movie_COS=(np.mean([piece[1] for piece in all_RS_list]))"
   ]
  },
  {
   "cell_type": "code",
   "execution_count": null,
   "metadata": {},
   "outputs": [],
   "source": [
    "print(\"\\n The precision score based on user(CN) is: {:.5f}\".format(precision_user_CN))\n",
    "print(\"\\n The precision score based on user(COSINE) is: {:.5f}\".format(precision_user_COS))\n",
    "print(\"\\n The precision score based on movie(CN) is: {:.5f}\".format(precision_movie_CN))\n",
    "print(\"\\n The precision score based on movie(COSINE) is: {:.5f}\".format(precision_movie_COS))\n",
    "print(\"\\n The ranking score based on user(CN) is: {:.5f}\".format(RS_user_CN))\n",
    "print(\"\\n The ranking score based on user(COSINE) is: {:.5f}\".format(RS_user_COS))\n",
    "print(\"\\n The ranking score based on movie(CN) is: {:.5f}\".format(RS_movie_CN))\n",
    "print(\"\\n The ranking score based on movie(COSINE) is: {:.5f}\".format(RS_movie_COS))"
   ]
  }
 ],
 "metadata": {
  "kernelspec": {
   "display_name": "Python 3",
   "language": "python",
   "name": "python3"
  },
  "language_info": {
   "codemirror_mode": {
    "name": "ipython",
    "version": 3
   },
   "file_extension": ".py",
   "mimetype": "text/x-python",
   "name": "python",
   "nbconvert_exporter": "python",
   "pygments_lexer": "ipython3",
   "version": "3.6.4"
  }
 },
 "nbformat": 4,
 "nbformat_minor": 2
}
