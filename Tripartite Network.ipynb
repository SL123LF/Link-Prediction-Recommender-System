{
 "cells": [
  {
   "cell_type": "code",
   "execution_count": null,
   "metadata": {},
   "outputs": [],
   "source": [
    "import pandas as pd\n",
    "import numpy as np\n",
    "import operator\n",
    "import time\n",
    "from sklearn.model_selection import train_test_split\n",
    "from operator import itemgetter\n",
    "from collections import OrderedDict\n",
    "from sklearn.metrics.pairwise import cosine_similarity"
   ]
  },
  {
   "cell_type": "code",
   "execution_count": null,
   "metadata": {},
   "outputs": [],
   "source": [
    "UI=pd.read_csv(\"H:/LinkPrediction/user-user-item network/Epinions/UserItem.csv\")\n",
    "\n",
    "S=pd.read_csv(\"H:/LinkPrediction/user-user-item network/Epinions/Social.csv\")"
   ]
  },
  {
   "cell_type": "code",
   "execution_count": null,
   "metadata": {},
   "outputs": [],
   "source": [
    "S=S.sort_values(by=['userID1'])\n",
    "S=S.reset_index(drop=True)"
   ]
  },
  {
   "cell_type": "code",
   "execution_count": null,
   "metadata": {
    "scrolled": true
   },
   "outputs": [],
   "source": [
    "del UI['Index']"
   ]
  },
  {
   "cell_type": "code",
   "execution_count": null,
   "metadata": {},
   "outputs": [],
   "source": [
    "UI_train, UI_test = train_test_split(UI, test_size=0.1)\n",
    "UI_train=UI_train.sort_values(by='userID')\n",
    "UI_train=UI_train.reset_index(drop=True)\n",
    "UI_test=UI_test.sort_values(by='userID')\n",
    "UI_test=UI_test.reset_index(drop=True)"
   ]
  },
  {
   "cell_type": "code",
   "execution_count": null,
   "metadata": {},
   "outputs": [],
   "source": [
    "all_user_node=UI.userID.unique()\n",
    "all_item_node=UI.itemID.unique()"
   ]
  },
  {
   "cell_type": "code",
   "execution_count": null,
   "metadata": {},
   "outputs": [],
   "source": [
    "user_node_num=UI_train.userID.unique()\n",
    "len(user_node_num)\n",
    "user_node_num\n",
    "item_node_num=UI_train.itemID.unique()\n",
    "len(item_node_num)"
   ]
  },
  {
   "cell_type": "code",
   "execution_count": null,
   "metadata": {},
   "outputs": [],
   "source": [
    "user_node_num=np.sort(user_node_num)\n",
    "item_node_num=np.sort(item_node_num)"
   ]
  },
  {
   "cell_type": "code",
   "execution_count": null,
   "metadata": {},
   "outputs": [],
   "source": [
    "UIM=np.zeros((len(user_node_num),len(item_node_num)))\n",
    "for i in range(len(UI_train)):\n",
    "    UIM[UI_train.userID[i]-1,UI_train.itemID[i]-1]=1"
   ]
  },
  {
   "cell_type": "code",
   "execution_count": null,
   "metadata": {},
   "outputs": [],
   "source": [
    "UIM"
   ]
  },
  {
   "cell_type": "code",
   "execution_count": null,
   "metadata": {},
   "outputs": [],
   "source": [
    "len(S.userID1)"
   ]
  },
  {
   "cell_type": "code",
   "execution_count": null,
   "metadata": {},
   "outputs": [],
   "source": [
    "user_node_num"
   ]
  },
  {
   "cell_type": "code",
   "execution_count": null,
   "metadata": {},
   "outputs": [],
   "source": [
    "SM=np.zeros((len(user_node_num),len(user_node_num))) \n",
    "for i in range(len(S.userID1)):                  \n",
    "    SM[S.userID1[i]-1,S.userID2[i]-1]=1 "
   ]
  },
  {
   "cell_type": "code",
   "execution_count": null,
   "metadata": {},
   "outputs": [],
   "source": [
    "SM"
   ]
  },
  {
   "cell_type": "code",
   "execution_count": null,
   "metadata": {},
   "outputs": [],
   "source": [
    "np.shape(SM)"
   ]
  },
  {
   "cell_type": "code",
   "execution_count": null,
   "metadata": {},
   "outputs": [],
   "source": [
    "#One way to generate the matrix for the further recommendation list\n",
    "P=0.5\n",
    "ui=0\n",
    "uu=0\n",
    "w=np.zeros((len(item_node_num),len(item_node_num)))\n",
    "for alpha in range(len(item_node_num)):\n",
    "    for beta in range(len(item_node_num)):\n",
    "        related_users_num=len(np.where(UIM[:,beta]==1)[0])\n",
    "        for i in range(len(user_node_num)):\n",
    "            collected_item_num=len(np.where(UIM[i,:]==1)[0])  \n",
    "            ui += (UIM[i,alpha]*UIM[i,beta])/collected_item_num  \n",
    "            for j in range(len(user_node_num)):\n",
    "                if UIM[i,alpha]==0 or SM[i,j]==0 or UIM[j,beta]==0:\n",
    "                    continue\n",
    "                uu += (UIM[i,alpha]*SM[i,j]*UIM[j,beta])/(collected_item_num*len(np.where(SM[j,:]==1)[0]))\n",
    "        first_half=P*(1/related_users_num)*ui\n",
    "        ui=0\n",
    "        second_half=(1-P)*(1/related_users_num)*uu\n",
    "        uu=0\n",
    "        w[alpha,beta]=first_half+second_half"
   ]
  },
  {
   "cell_type": "code",
   "execution_count": null,
   "metadata": {},
   "outputs": [],
   "source": [
    "# One way to generate the further recommendation list using matrix approach\n",
    "import time\n",
    "start =time.clock()\n",
    "P=0.5\n",
    "ui=0\n",
    "uu=0\n",
    "w=np.zeros((len(item_node_num),len(item_node_num)))\n",
    "for alpha in range(len(item_node_num)):\n",
    "    for beta in range(len(item_node_num)):\n",
    "        for i in range(len(user_node_num)):\n",
    "            ui += (test0[i,alpha]*test0[i,beta])/len(np.where(test0[i,:]==1)[0])\n",
    "            for j in range(len(user_node_num)):\n",
    "                if test0[i,alpha]==0 or test1[i,j]==0 or test0[j,beta]==0:\n",
    "                    continue\n",
    "                uu += (test0[i,alpha]*test1[i,j]*test0[j,beta])/(len(np.where(test0[i,:]==1)[0])*len(np.where(test1[j,:]==1)[0]))\n",
    "        first_half=P*(1/len(np.where(test0[:,beta]==1)[0]))*ui\n",
    "        ui=0\n",
    "        second_half=(1-P)*(1/len(np.where(test0[:,beta]==1)[0]))*uu\n",
    "        uu=0\n",
    "        w[alpha,beta]=first_half+second_half\n",
    "end = time.clock()\n",
    "print('Running time: %s Seconds'%(end-start))"
   ]
  },
  {
   "cell_type": "code",
   "execution_count": null,
   "metadata": {},
   "outputs": [],
   "source": [
    "# The other way to generate the further recommendation\n",
    "def aSMD(ID,aP):\n",
    "    user_ereg_1=dict.fromkeys(user_node_num-1, 0) \n",
    "    user_ereg_2=dict.fromkeys(user_node_num-1, 0)\n",
    "    item_ereg=dict.fromkeys(item_node_num-1, 0)\n",
    "    uncollect = np.where(UIM[np.where(user_node_num==ID)[0][0]]==0)[0] \n",
    "    recommendlist=dict.fromkeys(uncollect, 0)  \n",
    "    collect = np.where(UIM[np.where(user_node_num==ID)[0][0]]==1)[0]\n",
    "    #Step1\n",
    "    for i in collect:\n",
    "        related_user=np.where(UIM[:,i]==1)\n",
    "        i2u_edge= 1/len(related_user[0])\n",
    "        for j in related_user[0]: \n",
    "            user_ereg_1[j] += i2u_edge\n",
    "    #Step2\n",
    "    for p in range(0,len(user_node_num)):\n",
    "        user_ereg_2[p]=user_ereg_1[p]*aP \n",
    "        user_friends=np.where(SM[p,:]==1)\n",
    "        for q in user_friends[0]:\n",
    "            user_ereg_2[p]+=user_ereg_1[q]*(1-aP)/len(np.where(SM[q,:]==1)[0])\n",
    "    #Step3   \n",
    "    for m in range(0,len(user_node_num)):\n",
    "        if(user_ereg_2[m]==0):\n",
    "            continue\n",
    "        related_item=np.where(UIM[m,:]==1)\n",
    "        u2i_edge= user_ereg_2[m]/len(related_item[0]) \n",
    "        for n in related_item[0]:\n",
    "            item_ereg[n]+=u2i_edge\n",
    "    \n",
    "    for recommendItem in recommendlist:\n",
    "        recommendlist[recommendItem]=item_ereg[recommendItem]\n",
    "    return OrderedDict(sorted(recommendlist.items(), key=itemgetter(1),reverse=True))"
   ]
  },
  {
   "cell_type": "code",
   "execution_count": null,
   "metadata": {},
   "outputs": [],
   "source": [
    "#Evaluation Metrics\n",
    "start =time.clock()\n",
    "precision_list=[]\n",
    "all_RS_list=[]\n",
    "all_diver=[]\n",
    "item_similarity=cosine_similarity(UIM.T)\n",
    "L=20\n",
    "temp=0\n",
    "common_users=sorted(list(set(UI_train.userID)&set(UI_test.userID)))\n",
    "#Precision\n",
    "aP=[0,0.2,0.4,0.6,0.8,1.0]\n",
    "for p in aP:\n",
    "    for i in common_users:\n",
    "        rec= aSMD(i,p)\n",
    "        L_rec=list(rec.items())[:L]\n",
    "        precision=len(list(set(UI_test.itemID[UI_test.userID==i])& set([q for q in rec][:L])))/L\n",
    "        precision_list.append(precision)\n",
    "\n",
    "    #Ranking Score\n",
    "        common_items= UI_test.itemID[UI_test.userID==i]\n",
    "        loc=[list(rec.keys()).index(w-1) for w in common_items if w-1 in rec.keys()]\n",
    "        RS= [(j+1)/len(rec) for j in loc]\n",
    "        item_RS=np.mean(RS)\n",
    "        all_RS_list.append(item_RS)\n",
    "\n",
    "    #Intra-user diversity\n",
    "        for item in range(len(L_rec)):\n",
    "            for item1 in range(len(L_rec)):\n",
    "                if  item<=item1:\n",
    "                    continue\n",
    "                temp += item_similarity[L_rec[item][0],L_rec[item1][0]]#***这里为什么用到L_rec[item][0]？两item的相似性是否为item_similarity[item1_ID，item2_ID]\n",
    "        diver=(1/(L*(L-1)))*temp\n",
    "        all_diver.append(diver)\n",
    "        temp=0\n",
    "\n",
    "    RS_SMD=np.mean(all_RS_list)\n",
    "    precision_SMD = np.mean(precision_list)\n",
    "    diversity_SMD=np.mean(all_diver)\n",
    "\n",
    "    print('P is %s'%p)\n",
    "    print(RS_SMD)\n",
    "    print(precision_SMD)\n",
    "    print(diversity_SMD)\n",
    "    end = time.clock()\n",
    "    print('Running time: %s Seconds'%(end-start))"
   ]
  }
 ],
 "metadata": {
  "kernelspec": {
   "display_name": "Python 3",
   "language": "python",
   "name": "python3"
  },
  "language_info": {
   "codemirror_mode": {
    "name": "ipython",
    "version": 3
   },
   "file_extension": ".py",
   "mimetype": "text/x-python",
   "name": "python",
   "nbconvert_exporter": "python",
   "pygments_lexer": "ipython3",
   "version": "3.6.4"
  }
 },
 "nbformat": 4,
 "nbformat_minor": 2
}
